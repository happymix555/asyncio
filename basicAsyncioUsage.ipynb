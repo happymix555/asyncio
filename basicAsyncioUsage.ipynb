{
 "cells": [
  {
   "cell_type": "code",
   "execution_count": 4,
   "metadata": {},
   "outputs": [],
   "source": [
    "import asyncio"
   ]
  },
  {
   "attachments": {},
   "cell_type": "markdown",
   "metadata": {},
   "source": [
    "asyncio.create_task\n",
    "\n",
    "asyncio.create_task is used when we want to run coroutine function concurrently while waiting for \n",
    "another long running IO task.\n",
    "\n",
    "asyncio.create_task will return the task object.\n",
    "\n",
    "we use task object to with await to indicate where in the code should we really wait for the result \n",
    "of the long running task before moving on for another task.\n",
    "\n",
    "the below code demonstrate on how to use asyncio.create_task"
   ]
  },
  {
   "cell_type": "code",
   "execution_count": 6,
   "metadata": {},
   "outputs": [
    {
     "ename": "RuntimeError",
     "evalue": "asyncio.run() cannot be called from a running event loop",
     "output_type": "error",
     "traceback": [
      "\u001b[0;31m---------------------------------------------------------------------------\u001b[0m",
      "\u001b[0;31mRuntimeError\u001b[0m                              Traceback (most recent call last)",
      "Cell \u001b[0;32mIn[6], line 44\u001b[0m\n\u001b[1;32m     41\u001b[0m     \u001b[39mprint\u001b[39m( \u001b[39m'\u001b[39m\u001b[39mEnding main function\u001b[39m\u001b[39m'\u001b[39m )\n\u001b[1;32m     43\u001b[0m \u001b[39m# create an entry point to our event loop\u001b[39;00m\n\u001b[0;32m---> 44\u001b[0m asyncio\u001b[39m.\u001b[39;49mrun( main() )\n",
      "File \u001b[0;32m~/opt/anaconda3/envs/asynctio/lib/python3.10/asyncio/runners.py:33\u001b[0m, in \u001b[0;36mrun\u001b[0;34m(main, debug)\u001b[0m\n\u001b[1;32m      9\u001b[0m \u001b[39m\u001b[39m\u001b[39m\"\"\"Execute the coroutine and return the result.\u001b[39;00m\n\u001b[1;32m     10\u001b[0m \n\u001b[1;32m     11\u001b[0m \u001b[39mThis function runs the passed coroutine, taking care of\u001b[39;00m\n\u001b[0;32m   (...)\u001b[0m\n\u001b[1;32m     30\u001b[0m \u001b[39m    asyncio.run(main())\u001b[39;00m\n\u001b[1;32m     31\u001b[0m \u001b[39m\"\"\"\u001b[39;00m\n\u001b[1;32m     32\u001b[0m \u001b[39mif\u001b[39;00m events\u001b[39m.\u001b[39m_get_running_loop() \u001b[39mis\u001b[39;00m \u001b[39mnot\u001b[39;00m \u001b[39mNone\u001b[39;00m:\n\u001b[0;32m---> 33\u001b[0m     \u001b[39mraise\u001b[39;00m \u001b[39mRuntimeError\u001b[39;00m(\n\u001b[1;32m     34\u001b[0m         \u001b[39m\"\u001b[39m\u001b[39masyncio.run() cannot be called from a running event loop\u001b[39m\u001b[39m\"\u001b[39m)\n\u001b[1;32m     36\u001b[0m \u001b[39mif\u001b[39;00m \u001b[39mnot\u001b[39;00m coroutines\u001b[39m.\u001b[39miscoroutine(main):\n\u001b[1;32m     37\u001b[0m     \u001b[39mraise\u001b[39;00m \u001b[39mValueError\u001b[39;00m(\u001b[39m\"\u001b[39m\u001b[39ma coroutine was expected, got \u001b[39m\u001b[39m{!r}\u001b[39;00m\u001b[39m\"\u001b[39m\u001b[39m.\u001b[39mformat(main))\n",
      "\u001b[0;31mRuntimeError\u001b[0m: asyncio.run() cannot be called from a running event loop"
     ]
    }
   ],
   "source": [
    "# create coroutine function to simulate long process with asyncio.sleep\n",
    "async def myPrint( numToPrint: int ):\n",
    "    # sleep for 3 second to simulate a long running process\n",
    "    asyncio.sleep( 3 )\n",
    "    # print to inform that this long process is completed\n",
    "    print( 'myPrint number { numToPrint } is done!'.format( numToPrint ) )\n",
    "\n",
    "# # create a function to print 'I am waiting' to inform that we are performing other task\n",
    "# # concurrently while waiting for long running IO task to be done\n",
    "# # this function will print 'I am waiting' every 1 second\n",
    "# async def printImWaiting():\n",
    "#     # sleep 1 second\n",
    "#     asyncio.sleep( 1 )\n",
    "#     # print i am waiting message\n",
    "#     print( 'I am waiting' )\n",
    "\n",
    "# create main function to host all coroutine function\n",
    "# this will be used as an entry point for our event loop\n",
    "async def main():\n",
    "    # print to inform that we are in main function\n",
    "    print( 'Staring main function' )\n",
    "    # call myPrint function with number 1 to simulate the first long running process\n",
    "    firstLongRunningTask = asyncio.create_task( myPrint( 1 ) )\n",
    "    # call myPrint function with number 2 to simulate the second long running process\n",
    "    secondLongRunningTask = asyncio.create_task( myPrint( 2 ) )\n",
    "    # call myPrint function with number 3 to simulate the third long running process\n",
    "    thirdLongRunningTask = asyncio.create_task( myPrint( 3 ) )\n",
    "\n",
    "    # print to inform that we have already start the long running process in the background\n",
    "    # at this point we can perform other task concurrently while waiting for the long running\n",
    "    # task to be done\n",
    "    print( 'We are already start the long running process concurrently! with this print statement' )\n",
    "\n",
    "    # at this point of code we are really want to wait for the result of \n",
    "    # the long running task before moving on to do other task\n",
    "    await firstLongRunningTask\n",
    "    await secondLongRunningTask\n",
    "    await thirdLongRunningTask\n",
    "\n",
    "    # print to inform that the main function in finished\n",
    "    print( 'Ending main function' )\n",
    "\n",
    "# create an entry point to our event loop\n",
    "asyncio.run( main() )\n"
   ]
  },
  {
   "cell_type": "code",
   "execution_count": null,
   "metadata": {},
   "outputs": [],
   "source": []
  }
 ],
 "metadata": {
  "kernelspec": {
   "display_name": "asynctio",
   "language": "python",
   "name": "python3"
  },
  "language_info": {
   "codemirror_mode": {
    "name": "ipython",
    "version": 3
   },
   "file_extension": ".py",
   "mimetype": "text/x-python",
   "name": "python",
   "nbconvert_exporter": "python",
   "pygments_lexer": "ipython3",
   "version": "3.10.0"
  },
  "orig_nbformat": 4,
  "vscode": {
   "interpreter": {
    "hash": "ed4cb7559397ca9dd0f2feb735332de11d58f93ade2c0ef573e3bb2841c4f09d"
   }
  }
 },
 "nbformat": 4,
 "nbformat_minor": 2
}
